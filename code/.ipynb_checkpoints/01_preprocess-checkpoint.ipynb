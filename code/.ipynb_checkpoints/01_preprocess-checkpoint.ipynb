{
 "cells": [
  {
   "cell_type": "code",
   "execution_count": 1,
   "metadata": {},
   "outputs": [],
   "source": [
    "import pandas as pd\n",
    "import seaborn as sns\n",
    "import matplotlib.pyplot as plt\n",
    "import glob\n",
    "from IPython.display import display\n",
    "import os\n",
    "import sys\n",
    "from datetime import date\n",
    "import json\n",
    "import numpy as np"
   ]
  },
  {
   "cell_type": "code",
   "execution_count": 2,
   "metadata": {},
   "outputs": [
    {
     "data": {
      "text/plain": [
       "'D:\\\\projects\\\\GTI\\\\code'"
      ]
     },
     "execution_count": 2,
     "metadata": {},
     "output_type": "execute_result"
    }
   ],
   "source": [
    "os.getcwd()"
   ]
  },
  {
   "cell_type": "markdown",
   "metadata": {},
   "source": [
    "### Set defaults here"
   ]
  },
  {
   "cell_type": "code",
   "execution_count": null,
   "metadata": {},
   "outputs": [],
   "source": [
    "DATA_PATH = '../Pilot_Data'\n",
    "PROCESSED_DATA_PATH = '../ProcessedData'\n",
    "PLOT_PATH = '../PLOTS/data_quality/'\n",
    "\n",
    "os.makedirs(os.path.dirname(PROCESSED_DATA_PATH), exist_ok=True)\n",
    "os.makedirs(os.path.dirname(PLOT_PATH), exist_ok=True)"
   ]
  },
  {
   "cell_type": "markdown",
   "metadata": {},
   "source": [
    "### Read data .json files as pandas dataframe"
   ]
  },
  {
   "cell_type": "code",
   "execution_count": null,
   "metadata": {
    "scrolled": true
   },
   "outputs": [],
   "source": [
    "files = glob.glob(f'{DATA_PATH}/sub*/JSon*')\n",
    "display(files)"
   ]
  },
  {
   "cell_type": "code",
   "execution_count": null,
   "metadata": {},
   "outputs": [],
   "source": [
    "samples_df = pd.DataFrame()\n",
    "meta_df = pd.DataFrame()\n",
    "\n",
    "for fi in files: # reading only one file for now\n",
    "    with open(fi, 'r') as j:\n",
    "        tmp = json.loads(j.read())\n",
    "    tmpdf = pd.DataFrame()\n",
    "    subID = tmp['experiment']['participantNr']\n",
    "    blockID = tmp['experiment']['blocks'][0]['ID']\n",
    "    tmpdf['subjectID'] =  subID\n",
    "    tmpdf['gender'] = tmp['experiment']['gender']\n",
    "    tmpdf['age'] = tmp['experiment']['age']\n",
    "    meta_df = pd.concat([meta_df, tmpdf], ignore_index=True)\n",
    "    for nT, trial in enumerate(tmp['experiment']['blocks'][0]['trials']):\n",
    "        tmpdf = pd.io.json.json_normalize(data=trial['framedata'], sep='_')\n",
    "        tmpdf['timeStamp'] = pd.to_datetime(tmpdf['timeStamp'], unit='s')  \n",
    "        tmpdf['subjectID'] = subID\n",
    "        tmpdf['blockID'] = blockID\n",
    "        tmpdf['trialID']=nT\n",
    "        tmpdf['cue'] = trial['cue']\n",
    "        tmpdf['tool'] = trial['toolModel']\n",
    "        tmpdf['orientation'] = trial['toolOrientation']\n",
    "        tmpdf['trialDuration'] = trial['end'] - trial['start']\n",
    "        tmpdf['cueDuration'] = trial['cueEnd'] - trial['cueStart']\n",
    "        samples_df = pd.concat([samples_df, tmpdf], ignore_index=True)\n",
    "\n",
    "samples_df['trialID'] = 24*(samples_df['blockID'] - 1) + samples_df['trialID']\n",
    "samples_df.to_csv(f'{PROCESSED_DATA_PATH}/00_ET_samples.csv', index=False)\n",
    "meta_df.to_csv(f'{PROCESSED_DATA_PATH}/00_participant_meta.csv', index=False)\n",
    "# display(tmpdf)"
   ]
  },
  {
   "cell_type": "code",
   "execution_count": null,
   "metadata": {},
   "outputs": [],
   "source": [
    "samples_df.head()"
   ]
  },
  {
   "cell_type": "code",
   "execution_count": null,
   "metadata": {
    "scrolled": true
   },
   "outputs": [],
   "source": [
    "samples_df.columns"
   ]
  },
  {
   "cell_type": "code",
   "execution_count": null,
   "metadata": {
    "scrolled": true
   },
   "outputs": [],
   "source": [
    "samples_df.isna().mean()"
   ]
  },
  {
   "cell_type": "code",
   "execution_count": null,
   "metadata": {},
   "outputs": [],
   "source": [
    "display(samples_df.blockID.unique())\n",
    "display(samples_df.trialID.unique())\n",
    "display(samples_df.subjectID.unique())\n",
    "display(samples_df.hitObjectName.unique())\n",
    "display(samples_df.tool.unique())"
   ]
  },
  {
   "cell_type": "code",
   "execution_count": null,
   "metadata": {},
   "outputs": [],
   "source": [
    "#show framerate over subjects\n",
    "tmpdf = (\n",
    "    samples_df\n",
    "    .groupby(['subjectID','trialID'])['timeStamp']\n",
    "    .apply(lambda x: 1/np.mean((x - x.shift())/np.timedelta64(1,'s')))\n",
    "    .rename('Frame Rate')\n",
    "    .reset_index()\n",
    ")\n",
    "# display(tmpdf)\n",
    "sns.set(context = \"talk\", style=\"white\", palette=\"dark\", font_scale=1, rc={'figure.figsize':(14,8.27)})\n",
    "\n",
    "_, ax = plt.subplots(1,1,figsize=(20,10))\n",
    "sns.pointplot(data=tmpdf, x='subjectID', y='Frame Rate', color='b',\n",
    "              errwidth=2, capsize=0, saturation=0.5,ci='sd')\n",
    "# ax.set_ylim(60,120)\n",
    "plt.xticks(rotation=90, fontsize=15)\n",
    "plt.title('Frame Rate')\n",
    "plt.savefig(PLOT_PATH+'/frame_rate.png', quality=90)"
   ]
  },
  {
   "cell_type": "code",
   "execution_count": null,
   "metadata": {},
   "outputs": [],
   "source": [
    "# Calculate head & eye angles\n",
    "# read up on arctan\n",
    "samples_df['eye_theta_h'] = np.arctan2(samples_df['eyeDirWorld_x'], samples_df['eyeDirWorld_z'])\n",
    "samples_df['eye_theta_v'] = np.arctan2(samples_df['eyeDirWorld_y'], samples_df['eyeDirWorld_z'])\n",
    "\n",
    "samples_df['head_theta_h'] = np.arctan2(samples_df['hmdDirectionForward_x'], samples_df['hmdDirectionForward_z'])\n",
    "samples_df['head_theta_v'] = np.arctan2(samples_df['hmdDirectionForward_y'], samples_df['hmdDirectionForward_z'])"
   ]
  },
  {
   "cell_type": "code",
   "execution_count": null,
   "metadata": {},
   "outputs": [],
   "source": [
    "# Calculate head & eye velocity\n",
    "samples_df['eye_vel_h'] = (samples_df\n",
    "                                .groupby(['subjectID','trialID'])\n",
    "                                .eye_theta_h\n",
    "                                .apply(lambda x: x.diff())\n",
    "                          )/(samples_df\n",
    "                                .groupby(['subjectID','trialID'])\n",
    "                                .timeStamp\n",
    "                                .apply(lambda x: x.diff()/np.timedelta64(1,'s')))\n",
    "\n",
    "samples_df['eye_vel_v'] = (samples_df\n",
    "                                .groupby(['subjectID','trialID'])\n",
    "                                .eye_theta_v\n",
    "                                .apply(lambda x: x.diff())\n",
    "                          )/(samples_df\n",
    "                                .groupby(['subjectID','trialID'])\n",
    "                                .timeStamp\n",
    "                                .apply(lambda x: x.diff()/np.timedelta64(1,'s')))\n",
    "\n",
    "#...finish this part for head"
   ]
  },
  {
   "cell_type": "code",
   "execution_count": null,
   "metadata": {},
   "outputs": [],
   "source": [
    "samples_df['angular_vel'] =np.sqrt(samples_df.combined_eye_vel_h**2 + samples_df.combined_eye_vel_v**2)\n",
    "samples_df['head_angular_vel'] =np.sqrt(samples_df.head_vel_h**2 + samples_df.head_vel_v**2)"
   ]
  },
  {
   "cell_type": "code",
   "execution_count": null,
   "metadata": {},
   "outputs": [],
   "source": [
    "# save the samples_df with velocities and angles to a csv file called 01_ET_samples_velocity"
   ]
  },
  {
   "cell_type": "code",
   "execution_count": null,
   "metadata": {},
   "outputs": [],
   "source": [
    "# Drop all nan values from head and eye velocity estimates\n",
    "# check distribution of head vs eye velocity for horizontal, vertical and combined velocity\n",
    "\n",
    "g = sns.jointplot(x= samples_df.angular_vel, y=samples_df.head_angular_vel, \n",
    "                  space=0,color='r', kind=\"reg\", height=10,\n",
    "                  ratio=2, ylim=(-400, 400)\n",
    "                 )"
   ]
  },
  {
   "cell_type": "code",
   "execution_count": null,
   "metadata": {},
   "outputs": [],
   "source": [
    "# map object names as written in hitObjectName column : this helps to remove handle like below\n",
    "toolNames = {'fork':'Fork', 'paletteknife':'Paletteknife', 'fish descaler':'', 'daisy grubber', 'shovel',\n",
    "       'screwdriver', 'flower-cutter', 'spatula', 'zester',\n",
    "       'spoke wrench', 'paintbrush', 'wrench'}...\n",
    "\n",
    "tmpdf['tool'] = tmpdf['tool'].map(objs_dict)"
   ]
  },
  {
   "cell_type": "markdown",
   "metadata": {},
   "source": [
    "## Fixation detection"
   ]
  },
  {
   "cell_type": "code",
   "execution_count": null,
   "metadata": {},
   "outputs": [],
   "source": [
    "def med_filt(x,samples=3):\n",
    "    return pd.Series(ss.medfilt(x,samples))\n",
    "\n",
    "def simple_mad(angular_vel, thresh = 5):\n",
    "#     th_1 = np.median(angular_vel)\n",
    "    if len(angular_vel.shape) == 1:\n",
    "        angular_vel = angular_vel[:,None]\n",
    "    median = np.median(angular_vel)\n",
    "    diff = (angular_vel - median)**2\n",
    "    diff = np.sqrt(diff)\n",
    "#     print(diff)\n",
    "    med_abs_deviation = np.median(diff)\n",
    "    saccade_thresh = median + thresh*med_abs_deviation\n",
    "    return saccade_thresh\n",
    "\n",
    "def at_mad(angular_vel, th_0=200):\n",
    "    threshs = []\n",
    "    if len(angular_vel.shape) == 1:\n",
    "        angular_vel = angular_vel[:,None]\n",
    "    while True:\n",
    "        threshs.append(th_0)\n",
    "        angular_vel = angular_vel[angular_vel < th_0]         \n",
    "        median = np.median(angular_vel)\n",
    "        diff = (angular_vel - median)**2\n",
    "        diff = np.sqrt(diff)\n",
    "        med_abs_deviation = np.median(diff)\n",
    "        th_1 = median + 3*1.48*med_abs_deviation\n",
    "#         print(th_0, th_1)\n",
    "        if (th_0 - th_1)>1:            \n",
    "            th_0 = th_1\n",
    "        else:\n",
    "            saccade_thresh = th_1\n",
    "            threshs.append(saccade_thresh)\n",
    "            break\n",
    "#     return threshs\n",
    "    return saccade_thresh"
   ]
  },
  {
   "cell_type": "code",
   "execution_count": null,
   "metadata": {},
   "outputs": [],
   "source": [
    "subject = 2009\n",
    "trialNum = 5\n",
    "kind='line'\n",
    "tmpdf = samples_df.query('subjectID==@subject and trialNum==@trialNum')\n",
    "display(tmpdf.isna().mean())\n",
    "# thresh = tmpdf.angular_vel.std()\n",
    "mad_1 = at_mad(tmpdf.eye_angular_vel)\n",
    "mad_2 = simple_mad(tmpdf.eye_angular_vel)\n",
    "mad_3 = simple_mad(tmpdf.head_angular_vel)\n",
    "mad_4 = at_mad(tmpdf.head_angular_vel)\n",
    "# tmpdf.isFixV = tmpdf.isFixV*200\n",
    "# tmpdf.isHeadStable = tmpdf.isHeadStable*200\n",
    "_, ax = plt.subplots(2, 1, figsize=(20,12), sharex=True, sharey=False)\n",
    "ax = ax.ravel()\n",
    "\n",
    "(tmpdf\n",
    " .plot('timestamp', 'eye_angular_vel', kind=kind, color='g', ax=ax[0],\n",
    "       label='Eye Angular Vel', legend=True)\n",
    ")\n",
    "\n",
    "\n",
    "(tmpdf\n",
    " .plot('timestamp', 'head_angular_vel',kind=kind, color='r', ax=ax[1], \n",
    "       label='Head Angular Vel', legend=True)\n",
    ")\n",
    "\n",
    "ax[0].axhline(mad_1, ls='-', color='grey', lw=1.5)\n",
    "ax[1].axhline(mad_4, ls='-', color='grey', lw=1.5)\n",
    "display(mad_1, mad_2, mad_4)\n",
    "# ax[0].set_ylim(-100, 500)\n",
    "# ax[1].set_ylim(-100, 700)\n",
    "# ax[0].set_xlim(10, 20)\n",
    "# ax[1].set_ylim(-10, 200)\n",
    "ax[0].set_title(f'Adaptive thresholds for Saccade detection SUBJECT-{subject} Trial-{trialNum}')\n",
    "plt.savefig(f'{PLOT_PATH}/at_mad_saccade_{subject}_{trialNum}_{kind}_1.png',\n",
    "            transparent=True, bbox_inches='tight', quality=90)"
   ]
  },
  {
   "cell_type": "code",
   "execution_count": null,
   "metadata": {},
   "outputs": [],
   "source": [
    "samples_df['isFix'] = 0\n",
    "samples_df['isFix'] = (samples_df\n",
    "                       .groupby(['subjectID', 'trialID'],\n",
    "                                as_index=False)\n",
    "                       .eye_angular_vel\n",
    "                       .transform(lambda x: x < at_mad(x))\n",
    "                      )"
   ]
  },
  {
   "cell_type": "code",
   "execution_count": null,
   "metadata": {},
   "outputs": [],
   "source": [
    "samples_df.set_index('timestamp_dt', inplace=True)\n",
    "samples_df['fix_duration'] = (samples_df\n",
    "                              .groupby(['subjectID', 'subjectfileName', #<-- change the groupby columns\n",
    "                                        'trialNum'],\n",
    "                                       as_index=False).isFix\n",
    "                              .apply(lambda x: \n",
    "                                     x.groupby((x != x.shift()).cumsum())\n",
    "                                     .transform(lambda x: \n",
    "                                                (x.index[-1] - x.index[0]\n",
    "                                                )/np.timedelta64(1, 's')\n",
    "                                               )\n",
    "                                    )\n",
    "                             ).reset_index().set_index('timestamp_dt').isFix\n",
    "\n",
    "samples_df = samples_df.reset_index()"
   ]
  },
  {
   "cell_type": "code",
   "execution_count": null,
   "metadata": {},
   "outputs": [],
   "source": [
    "samples_df['isOutlierFix'] = (samples_df\n",
    "                              .query('isFixV == 1 and fix_duration != 0')\n",
    "                              .fix_duration\n",
    "                              .transform(lambda x: x > simple_mad(x, 3))\n",
    "                             )\n",
    "\n",
    "samples_df['isOutlierSac'] = (samples_df\n",
    "                              .query('isFixV == 0 and fix_duration != 0')\n",
    "                              .fix_duration\n",
    "                              .transform(lambda x: x > simple_mad(x, 3))\n",
    "                             )"
   ]
  }
 ],
 "metadata": {
  "kernelspec": {
   "display_name": "Python 3",
   "language": "python",
   "name": "python3"
  },
  "language_info": {
   "codemirror_mode": {
    "name": "ipython",
    "version": 3
   },
   "file_extension": ".py",
   "mimetype": "text/x-python",
   "name": "python",
   "nbconvert_exporter": "python",
   "pygments_lexer": "ipython3",
   "version": "3.7.4"
  }
 },
 "nbformat": 4,
 "nbformat_minor": 2
}
